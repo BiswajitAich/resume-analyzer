{
 "cells": [
  {
   "cell_type": "markdown",
   "id": "0cffe361",
   "metadata": {},
   "source": [
    "# imports"
   ]
  },
  {
   "cell_type": "code",
   "execution_count": 59,
   "id": "8edf16e8",
   "metadata": {},
   "outputs": [],
   "source": [
    "from langgraph.graph import StateGraph, START, END\n",
    "from dotenv import load_dotenv\n",
    "import pdfplumber\n",
    "from typing import TypedDict\n",
    "import json\n",
    "from langchain_groq import ChatGroq"
   ]
  },
  {
   "cell_type": "code",
   "execution_count": 51,
   "id": "9e620e8b",
   "metadata": {},
   "outputs": [
    {
     "data": {
      "text/plain": [
       "True"
      ]
     },
     "execution_count": 51,
     "metadata": {},
     "output_type": "execute_result"
    }
   ],
   "source": [
    "load_dotenv()"
   ]
  },
  {
   "cell_type": "markdown",
   "id": "130a7d81",
   "metadata": {},
   "source": [
    "# Define state types"
   ]
  },
  {
   "cell_type": "code",
   "execution_count": 40,
   "id": "35b8711f",
   "metadata": {},
   "outputs": [],
   "source": [
    "class ExtractTextFromPDFState(TypedDict):\n",
    "    file_path: str\n",
    "    resume_text: str\n",
    "\n",
    "class ResumeAnalyserState(ExtractTextFromPDFState):\n",
    "    JD_text: str\n",
    "    resume_rating: float\n",
    "    resume_jd_match: float\n",
    "    analysis: str"
   ]
  },
  {
   "cell_type": "markdown",
   "id": "1424521f",
   "metadata": {},
   "source": [
    "# Extract text from pdf"
   ]
  },
  {
   "cell_type": "code",
   "execution_count": 41,
   "id": "33bc2d8c",
   "metadata": {},
   "outputs": [],
   "source": [
    "def extract_text_from_pdf(state: ExtractTextFromPDFState) -> ExtractTextFromPDFState:\n",
    "    try:\n",
    "        with pdfplumber.open(state['file_path']) as pdf:\n",
    "            text = \"\\n\".join(\n",
    "                [page.extract_text() for page in pdf.pages if page.extract_text()]\n",
    "            )\n",
    "        state['resume_text'] = text.strip() if text else \"[NO TEXT EXTRACTED]\"\n",
    "    except Exception as e:\n",
    "        state['resume_text'] = f\"[ERROR] Failed to parse PDF: {str(e)}\"\n",
    "    return state"
   ]
  },
  {
   "cell_type": "code",
   "execution_count": 42,
   "id": "3948dcd0",
   "metadata": {},
   "outputs": [],
   "source": [
    "path = \"./files/BISWAJIT AICH RESUME.pdf\""
   ]
  },
  {
   "cell_type": "markdown",
   "id": "284f8377",
   "metadata": {},
   "source": [
    "# Setup llm"
   ]
  },
  {
   "cell_type": "code",
   "execution_count": 73,
   "id": "bd0ff871",
   "metadata": {},
   "outputs": [],
   "source": [
    "llm = ChatGroq(\n",
    "    model=\"llama-3.3-70b-versatile\",\n",
    "    temperature=1.0,\n",
    "    max_tokens=1024\n",
    ")\n",
    "message = \"\"\"\n",
    "You are an expert resume analyser. You will be given a resume and a job description.\n",
    "Your task is to rate the resume on a scale of 1 to 5 based on its relevance to the job description.\n",
    "You will also provide a match score between the resume and the job description on a scale of 0 to 1.\n",
    "Finally, you will provide a brief analysis of the resume.\n",
    "Return the results in the following json format only (without any additional text):\n",
    "{{\n",
    "    \"resume_rating\": <rating>,\n",
    "    \"resume_jd_match\": <match_score>,\n",
    "    \"analysis\": \"<analysis>\"\n",
    "}}\n",
    "___\n",
    "'resume_text': '{resume_text}',\n",
    "'JD_text': '{JD_text}'\n",
    "\"\"\""
   ]
  },
  {
   "cell_type": "code",
   "execution_count": 69,
   "id": "baac5ca2",
   "metadata": {},
   "outputs": [],
   "source": [
    "def llm_response(state: ResumeAnalyserState) -> ResumeAnalyserState:\n",
    "    resume_text = state['resume_text']\n",
    "    jd_text = state['JD_text']\n",
    "    \n",
    "    prompt = message.format(resume_text=resume_text, JD_text=jd_text)\n",
    "    response = llm.invoke(prompt)\n",
    "\n",
    "    try:\n",
    "        parsed = json.loads(response.content.strip())\n",
    "        state['resume_rating'] = parsed.get(\"resume_rating\", -1)\n",
    "        state['resume_jd_match'] = parsed.get(\"resume_jd_match\", -1.0)\n",
    "        state['analysis'] = parsed.get(\"analysis\", \"No analysis provided.\")\n",
    "    except Exception as e:\n",
    "        state['resume_rating'] = -1\n",
    "        state['resume_jd_match'] = -1\n",
    "        state['analysis'] = f\"[ERROR] Failed to parse LLM response: {str(e)}\\nRaw: {response.content}\"\n",
    "\n",
    "    return state"
   ]
  },
  {
   "cell_type": "markdown",
   "id": "c231a9ac",
   "metadata": {},
   "source": [
    "# Setup LangGraph"
   ]
  },
  {
   "cell_type": "code",
   "execution_count": 71,
   "id": "09d484ef",
   "metadata": {},
   "outputs": [],
   "source": [
    "graph = StateGraph(ResumeAnalyserState)\n",
    "\n",
    "graph.add_node('extract_text_from_pdf', extract_text_from_pdf)\n",
    "graph.add_node('llm_response', llm_response)\n",
    "\n",
    "graph.add_edge(START, 'extract_text_from_pdf')\n",
    "graph.add_edge('extract_text_from_pdf', 'llm_response')\n",
    "graph.add_edge('llm_response', END)\n",
    "\n",
    "workflow = graph.compile()"
   ]
  },
  {
   "cell_type": "markdown",
   "id": "07ca3918",
   "metadata": {},
   "source": [
    "# Test run"
   ]
  },
  {
   "cell_type": "code",
   "execution_count": 72,
   "id": "a02cd7aa",
   "metadata": {},
   "outputs": [
    {
     "name": "stdout",
     "output_type": "stream",
     "text": [
      "{'file_path': './files/BISWAJIT AICH RESUME.pdf', 'resume_text': 'BISWAJIT AICH\\nAspiring Computer Science Engineer | AI/ML Enthusiast | Full-Stack Developer\\nLocation: Hooghly, West Bengal, India Date of Birth: 22 September 2002\\nEmail: biswajitaichofficial@gmail.com Phone: +916290675574\\nPortfolio: http://biswajitaichportfolio.vercel.app GitHub: https://github.com/BiswajitAich\\n1. PROFESSIONAL SUMMARY\\nComputer science engineering student with a love for the field and over 2 years of hands-on experience in\\nAI/ML and web development. Put more than 4 AI models to work in real-world settings making backend\\nAPIs run smoother and boosting user satisfaction. Build using full stack.\\n2. EDUCATION\\nBachelor of Technology in Computer Science and Engineering 2022- Present\\nAcademy of Technology, MAKAUT University, Adisaptagram, West Bengal, India\\nHigher Secondary Education 2020-2022\\nVivekananda English Academy, WBBHSE, Rishra, West Bengal, India\\nSecondary Education 2018-2020\\nVivekananda English Academy, WBBSE, Rishra, West Bengal, India\\n3. Technical Skills\\nProgramming Languages: Python, JavaScript, C++, TypeScript, HTML, CSS.\\nFrameworks & Tools: Next.js, React.js, Flask, TensorFlow, PyTorch, OpenCV, HTML, CSS, Node.js.\\nAI/ML Skills: Natural Language Processing (NLP), Computer Vision, Deep Learning, Reinforcement Learning.\\nAI/ML Tools: TensorFlow, PyTorch, OpenCV, Scikit-learn\\nDatabases: MongoDB, MySQL\\nVersion Control: Git, GitHub\\nOther: REST APIs, Data Analysis, Software Testing\\n4. Key Projects\\nConversational Chatbot Using FLAN-T5\\n❖ Built a chatbot using FLAN-T5 to engage in contextual conversations.\\n❖ Focused on optimizing GPU/CPU resources during model training and inference.\\n❖ Technologies: Python, TensorFlow, Google Colab\\nMultiplayer Rock-Paper-Scissors AI Game\\n❖ Developed a YOLO-based (object detection) AI model for playing rock-paper-scissors in real time.\\n❖ Integrated the model into a live camera-based website using lightning.ai and NextJs.\\n❖ Achieved 90% accuracy in gesture detection during testing.\\nJewellery Recommendation System\\n❖ Built a recommendation engine using cosine similarity to display relevant jewellery products.\\n❖ Deployed in a Next.js framework for a real-time user experience in e-commerce website.\\nSOFT SKILLS\\nStrong Problem-Solving and Analytical Skills. Team Collaboration and Leadership. Self-Motivation and Time\\nManagement\\nLANGUAGES\\nEnglish: Professional Proficiency (C1). Bengali: Native Speaker. Hindi: Intermediate (B1)\\nHOBBIES AND INTERESTS\\nCreating art/painting. Learning about cutting-edge technologies. Sharing technical knowledge with peers', 'JD_text': 'We are hiring a full-stack engineer with React and Node.js experience.', 'resume_rating': 4, 'resume_jd_match': 0.8, 'analysis': \"The candidate has relevant technical skills, including React.js, Node.js, and full-stack development experience, which aligns well with the job description. Additionally, the candidate's projects demonstrate proficiency in AI/ML and web development, showcasing their versatility as a full-stack engineer. However, the job description is brief and does not mention AI/ML requirements, so the candidate's expertise in this area may be more than what is required for the position.\"}\n",
      "\n",
      "\n",
      "Rating: 4\n",
      "JD Match: 0.8\n",
      "Analysis: The candidate has relevant technical skills, including React.js, Node.js, and full-stack development experience, which aligns well with the job description. Additionally, the candidate's projects demonstrate proficiency in AI/ML and web development, showcasing their versatility as a full-stack engineer. However, the job description is brief and does not mention AI/ML requirements, so the candidate's expertise in this area may be more than what is required for the position.\n"
     ]
    }
   ],
   "source": [
    "initial_input = {\n",
    "    \"file_path\": \"./files/BISWAJIT AICH RESUME.pdf\",\n",
    "    \"JD_text\": \"We are hiring a full-stack engineer with React and Node.js experience.\",\n",
    "    \"resume_rating\": -1,\n",
    "    \"resume_jd_match\": -1,\n",
    "    \"analysis\": \"No analysis done yet.\",\n",
    "}\n",
    "result = workflow.invoke(initial_input)\n",
    "\n",
    "print(result)\n",
    "print(\"\\n\")\n",
    "print(f\"Rating: {result['resume_rating']}\")\n",
    "print(f\"JD Match: {result['resume_jd_match']}\")\n",
    "print(f\"Analysis: {result['analysis']}\")"
   ]
  },
  {
   "cell_type": "markdown",
   "id": "e8c8d987",
   "metadata": {},
   "source": [
    "# Visualize"
   ]
  },
  {
   "cell_type": "code",
   "execution_count": 74,
   "id": "d813716a",
   "metadata": {},
   "outputs": [
    {
     "data": {
      "image/png": "[encoded data removed]",
      "text/plain": [
       "<IPython.core.display.Image object>"
      ]
     },
     "execution_count": 74,
     "metadata": {},
     "output_type": "execute_result"
    }
   ],
   "source": [
    "from IPython.display import Image\n",
    "Image(workflow.get_graph().draw_mermaid_png())"
   ]
  }
 ],
 "metadata": {
  "kernelspec": {
   "display_name": "env",
   "language": "python",
   "name": "python3"
  },
  "language_info": {
   "codemirror_mode": {
    "name": "ipython",
    "version": 3
   },
   "file_extension": ".py",
   "mimetype": "text/x-python",
   "name": "python",
   "nbconvert_exporter": "python",
   "pygments_lexer": "ipython3",
   "version": "3.11.0"
  }
 },
 "nbformat": 4,
 "nbformat_minor": 5
}
